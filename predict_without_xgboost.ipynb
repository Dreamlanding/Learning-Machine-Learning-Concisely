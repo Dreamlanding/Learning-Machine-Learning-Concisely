
{
 "cells": [
  {
   "cell_type": "code",
   "execution_count": 533,
   "metadata": {},
   "outputs": [],
   "source": [
    "# Imports and boilerplate to make graphs look better\n",
    "%matplotlib inline\n",
    "import matplotlib.pyplot as plt\n",
    "import numpy as np\n",
    "\n",
    "def setup_graph(title='', x_label='', y_label='', fig_size=None):\n",
    "    fig = plt.figure()\n",
    "    if fig_size != None:\n",
    "        fig.set_size_inches(fig_size[0], fig_size[1])\n",
    "    ax = fig.add_subplot(111)\n",
    "    ax.set_title(title)\n",
    "    ax.set_xlabel(x_label)\n",
    "    ax.set_ylabel(y_label)"
   ]
  },
  {
   "cell_type": "markdown",
   "metadata": {},
   "source": [
    "# Random Forest and XGBoost\n",
    "\n",
    "I want to understand roughly how random forest decision trees perform, and compare that with xgboost. I'll use `y=x^2` as a sample problem to learn against.\n",
    "\n",
    "## Training/testing set\n",
    "\n",
    "First, let's define our training and data sets..."
   ]
  },
  {