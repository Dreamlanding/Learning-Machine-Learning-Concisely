{
 "cells": [
  {
   "cell_type": "code",
   "execution_count": 1,
   "metadata": {},
   "outputs": [],
   "source": [
    "# Imports and boilerplate to make graphs look better\n",
    "%matplotlib inline\n",
    "import matplotlib.pyplot as plt\n",
    "import numpy as np\n",
    "import scipy\n",
    "import wave\n",
    "from IPython.display import Audio\n",
    "\n",
    "def setup_graph(title='', x_label='', y_label='', fig_size=None):\n",
    "    fig = plt.figure()\n",
    "    if fig_size != None:\n",
    "        fig.set_size_inches(fig_size[0], fig_size[1])\n",
    "    ax = fig.add_subplot(111)\n",
    "    ax.set_title(title)\n",
    "    ax.set_xlabel(x_label)\n",
    "    ax.set_ylabel(y_label)"
   ]
  },
  {
   "cell_type": "markdown",
   "metadata": {},
   "source": [
    "# Problem: Neural Network to learn math functions\n",
    "\n",
    "Initially, let's try to learn y=x^2..."
   ]
  },
  {
   "cell_type": "code",
   "execution_count": 46,
   "metadata": {},
   "outputs": [],
   "source": [
    "# Training x and training y\n",
    "x_train = np.random.uniform(-5, 5, 1000)\n",
    "y_train = x_train**2 + np.random.normal(0, 1, 1000)\n",
    "\n",
    "# To draw the true `y=x^2`...\n",
    "x_true = np.linspace(-5, 5, 1000)\n",
    "y_true = x_true**2\n",
    "\n",
    "# Test data - note that we go outside the bounds of the testing data\n",
    "x_test = np.linspace(-10, 10, 100)"
   ]
  },
  {
   "cell_type": "code",
   "execution_count": 47,
   "metadata": {},
   "outputs": [
    {
     "data": {
      "image/png": "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