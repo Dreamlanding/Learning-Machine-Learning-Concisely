{
 "cells": [
  {
   "cell_type": "code",
   "execution_count": 1,
   "metadata": {},
   "outputs": [],
   "source": [
    "# Imports and boilerplate to make graphs look better\n",
    "%matplotlib inline\n",
    "import matplotlib.pyplot as plt\n",
    "import numpy as np\n",
    "import scipy\n",
    "import wave\n",
    "from IPython.display import Audio\n",
    "\n",
    "def setup_graph(title='', x_label='', y_label='', fig_size=None):\n",
    "    fig = plt.figure()\n",
    "    if fig_size != None:\n",
    "        fig.set_size_inches(fig_size[0], fig_size[1])\n",
    "    ax = fig.add_subplot(111)\n",
    "    ax.set_title(title)\n",
    "    ax.set_xlabel(x_label)\n",
    "    ax.set_ylabel(y_label)"
   ]
  },
  {
   "cell_type": "markdown",
   "metadata": {},
   "source": [
    "# Problem: Neural Network to learn math functions\n",
    "\n",
    "Initially, let's try to learn y=x^2..."
   ]
  },
  {
   "cell_type": "code",
   "execution_count": 46,
   "metadata": {},
   "outputs": [],
   "source": [
    "# Training x and training y\n",
    "x_train = np.random.uniform(-5, 5, 1000)\n",
    "y_train = x_train**2 + np.random.normal(0, 1, 1000)\n",
    "\n",
    "# To draw the true `y=x^2`...\n",
    "x_true = np.linspace(-5, 5, 1000)\n",
    "y_true = x_true**2\n",
    "\n",
    "# Test data - note that we go outside the bounds of the testing data\n",
    "x_test = np.linspace(-10, 10, 100)"
   ]
  },
  {
   "cell_type": "code",
   "execution_count": 47,
   "metadata": {},
   "outputs": [
    {
     "data": {
      "image/png": "iVBORw0KGgoAAAANSUhEUgAAA3gAAAHwCAYAAAD0Es3SAAAABHNCSVQICAgIfAhkiAAAAAlwSFlzAAALEgAACxIB0t1+/AAAADl0RVh0U29mdHdhcmUAbWF0cGxvdGxpYiB2ZXJzaW9uIDMuMC4wLCBodHRwOi8vbWF0cGxvdGxpYi5vcmcvqOYd8AAAIABJREFUeJzs3Xl4lNX58PHvgRAVcCGKuEVRVChuqNEqdUPQt6h1qaLVqogLWqt1QSu41F2sSxGXCtYNtWqNVm1VaoVS1FLUuFT9ISi4xQ0juAHqkHDeP4bAJEySSchkksn3c11eITPPM3PilTxz7ufc575DjBFJkiRJUtvXIdcDkCRJkiQ1DwM8SZIkScoTBniSJEmSlCcM8CRJkiQpTxjgSZIkSVKeMMCTJEmSpDxhgCdJ0koIIQwMIVwUQlg912ORJMkAT5KkJgoh7A78FdgPeDSEUFjr+XNDCG+GEL4NIbwXQjg3JwOVJLUbB