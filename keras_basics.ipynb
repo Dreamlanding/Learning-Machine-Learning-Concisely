{
 "cells": [
  {
   "cell_type": "code",
   "execution_count": 1,
   "metadata": {},
   "outputs": [],
   "source": [
    "# Imports and boilerplate to make graphs look better\n",
    "%matplotlib inline\n",
    "import matplotlib.pyplot as plt\n",
    "import numpy as np\n",
    "import scipy\n",
    "import wave\n",
    "from IPython.display import Audio\n",
    "\n",
    "def setup_graph(title='', x_label='', y_label='', fig_size=None):\n",
    "    fig = plt.figure()\n",
    "    if fig_size != None:\n",
    "        fig.set_size_inches(fig_size[0], fig_size[1])\n",
    "    ax = fig.add_subplot(111)\n",
    "    ax.set_title(title)\n",
    "    ax.set_xlabel(x_label)\n",
    "    ax.set_ylabel(y_label)"
   ]
  },
  {
   "cell_type": "markdown",
   "metadata": {},
   "source": [
    "# Problem: Neural Network to learn math functions\n",
    "\n",
    "Initially, let's try to learn y=x^2..."
   ]
  },
  {
   "cell_type": "code",
   "execution_count": 46,
   "metadata": {},
   "outputs": [],
   "source": [
    "# Training x and training y\n",
    "x_train = np.random.uniform(-5, 5, 1000)\n",
    "y_train = x_train**2 + np.random.normal(0, 1, 1000)\n",
    "\n",
    "# To draw the true `y=x^2`...\n",
    "x_true = np.linspace(-5, 5, 1000)\n",
    "y_true = x_true**2\n",
    "\n",
    "# Test data - note that we go outside the bounds of the testing data\n",
    "x_test = np.linspace(-10, 10, 100)"
   ]
  },
  {
   "cell_type": "code",
   "execution_count": 47,
   "metadata": {},
   "outputs": [
    {
     "data": {
      "image/png": "iVBORw0KGgoAAAANSUhEUgAAA3gAAAHwCAYAAAD0Es3SAAAABHNCSVQICAgIfAhkiAAAAAlwSFlzAAALEgAACxIB0t1+/AAAADl0RVh0U29mdHdhcmUAbWF0cGxvdGxpYiB2ZXJzaW9uIDMuMC4wLCBodHRwOi8vbWF0cGxvdGxpYi5vcmcvqOYd8AAAIABJREFUeJzs3Xl4lNX58PHvgRAVcCGKuEVRVChuqNEqdUPQt6h1qaLVqogLWqt1QSu41F2sSxGXCtYNtWqNVm1VaoVS1FLUuFT9ISi4xQ0juAHqkHDeP4bAJEySSchkksn3c11eITPPM3PilTxz7ufc575DjBFJkiRJUtvXIdcDkCRJkiQ1DwM8SZIkScoTBniSJEmSlCcM8CRJkiQpTxjgSZIkSVKeMMCTJEmSpDxhgCdJ0koIIQwMIVwUQlg912ORJMkAT5KkJgoh7A78FdgPeDSEUFjr+XNDCG+GEL4NIbwXQjg3JwOVJLUbBniSJDVBCGFb4CHgSGAP4Gvg3hBC6mdrAI4FugE/BU4LIfyipccqSWo/DPAkSXln6crZI7UeuzGEMDbD84tCCB+FEH629PuuIYTZIYRjl37fE3gEODrG+FSMcTFwBFAJLHuPGOM1McZXYoyVMcZZwOPAT5rhR5QkKa0QY8z1GCRJalYhhPWB2cCGMcavQggFwCfAYOAE4Kg6Tv0wxrjt0tfYF7gH2Ba4EugWYzxsJcYUgFeA8THGcU19HUmS6mOAJ0nKSyGEicBfY4x/CiEcAFwTY+zbyNe4CdgLKAK2jTHOW4nxXAocDOwcY/yhqa8jSVJ9TNGUJOWrCcDRS/99NHBvE17jNmBr4O6VDO5OI7kXb3+DO0lSNrmCJ0nKSyGEVYFPgd2B6UDfGOOHIYRxLA/8avsgxrjV0vM7As8DbwMHAjvFGGc3YRzHA5cBe8QY3238TyJJUuYM8CRJeSuE8Cfgx8AXMca9G3nuRST37O0OnAccAOweY6xqxGv8ErgeGBBjfKsx7y9JUlOYoilJymcTgG1oZHpmCGFH4Gzg2KUB3e+BCIxs5PtfAawNvBRCWLD0PwusSJKyxhU8SVLeCiFsDMwE1osxfpPr8UiSlG2u4EmS8tLShuNnAw8a3EmS2ouCXA9AkqTmFkLoAswFPgB+muPhSJLUYkzRlCRJkqQ8YYqmJEmSJOUJAzxJkiRJyhNtYg/eOuusE3v27JnrYUiSJElSTrz88stfxBi7N3RcmwjwevbsSVlZWa6HIUmSJEk5EUL4IJPjTNGUJEmSpDxhgCdJkiRJecIAT5IkSZLyhAGeJEmSJOUJAzxJkiRJyhMGeJIkSZKUJwzwJEm